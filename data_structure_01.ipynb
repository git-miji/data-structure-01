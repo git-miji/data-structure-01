{
  "nbformat": 4,
  "nbformat_minor": 0,
  "metadata": {
    "colab": {
      "name": "data_structure_01.ipynb",
      "provenance": [],
      "collapsed_sections": [],
      "authorship_tag": "ABX9TyMtQ31bfF4iZVH3Ya1DZM6C",
      "include_colab_link": true
    },
    "kernelspec": {
      "name": "python3",
      "display_name": "Python 3"
    },
    "language_info": {
      "name": "python"
    }
  },
  "cells": [
    {
      "cell_type": "markdown",
      "metadata": {
        "id": "view-in-github",
        "colab_type": "text"
      },
      "source": [
        "<a href=\"https://colab.research.google.com/github/git-miji/data-structure-01/blob/main/data_structure_01.ipynb\" target=\"_parent\"><img src=\"https://colab.research.google.com/assets/colab-badge.svg\" alt=\"Open In Colab\"/></a>"
      ]
    },
    {
      "cell_type": "markdown",
      "source": [
        "Testing Data Structure: Boolean and methods\n",
        "\n",
        "Two boolean Value: True or False"
      ],
      "metadata": {
        "id": "s5Gli91OmStc"
      }
    },
    {
      "cell_type": "code",
      "source": [
        "test_str01='Hello World'\n",
        "test_str02='Miji'\n",
        "\n",
        "print(test_str01)\n",
        "print(test_str02)\n",
        "print(test_str01.isalnum() or test_str02.isalpha())\n",
        "print(test_str01.isalnum() or test_str02.isdigit())"
      ],
      "metadata": {
        "colab": {
          "base_uri": "https://localhost:8080/"
        },
        "id": "nSqv44P9mqEx",
        "outputId": "85581873-d62c-46aa-f77a-dcf78d14749e"
      },
      "execution_count": 1,
      "outputs": [
        {
          "output_type": "stream",
          "name": "stdout",
          "text": [
            "Hello World\n",
            "Miji\n",
            "True\n",
            "False\n"
          ]
        }
      ]
    },
    {
      "cell_type": "markdown",
      "source": [
        "Testing Data Structure: String and methods"
      ],
      "metadata": {
        "id": "R454mBgNgswm"
      }
    },
    {
      "cell_type": "code",
      "source": [
        "my_str='Md Kausar Hamid Miji'"
      ],
      "metadata": {
        "id": "-xh7QhijgyxV"
      },
      "execution_count": 23,
      "outputs": []
    },
    {
      "cell_type": "code",
      "source": [
        "print(my_str)\n",
        "print(type(my_str))"
      ],
      "metadata": {
        "colab": {
          "base_uri": "https://localhost:8080/"
        },
        "id": "AAlaNWaHg5vN",
        "outputId": "5b1d05b9-97d4-4a44-f290-60a808fb6f68"
      },
      "execution_count": 28,
      "outputs": [
        {
          "output_type": "stream",
          "name": "stdout",
          "text": [
            "Md Kausar Hamid Miji\n",
            "<class 'str'>\n"
          ]
        }
      ]
    },
    {
      "cell_type": "code",
      "source": [
        "print(my_str.isalnum()) #Is my_str contains Alpha Numeric Value?\n",
        "print(my_str.startswith('M')) #Starts with a specific letter.\n",
        "print(my_str.endswith('j')) # Ends with a specific letter...\n",
        "print(my_str.isupper())\n",
        "print(my_str.isspace())\n",
        "print(my_str.islower())\n",
        "print(my_str.isdigit()) # Is my_str digit?"
      ],
      "metadata": {
        "colab": {
          "base_uri": "https://localhost:8080/"
        },
        "id": "8CpQi9lGg_IT",
        "outputId": "739343b1-08f0-453d-a9c1-572e80281c74"
      },
      "execution_count": 26,
      "outputs": [
        {
          "output_type": "stream",
          "name": "stdout",
          "text": [
            "False\n",
            "True\n",
            "False\n",
            "False\n",
            "False\n",
            "False\n",
            "False\n"
          ]
        }
      ]
    },
    {
      "cell_type": "markdown",
      "source": [
        "Testing Data Structure: List\n",
        "A list is a data structure in Python that is mutable, or changeable, ordered sequence, of elements. Each element is inside of a list is called an item. Just as strings are defined as characters between quotes, lists are defined by having values between square brackets [ ]."
      ],
      "metadata": {
        "id": "qdn3rv67WuTN"
      }
    },
    {
      "cell_type": "code",
      "source": [
        "list_01=['Pi', 1, 2, 3, True, False, 'Miji']"
      ],
      "metadata": {
        "id": "7J-ixAqYWs5E"
      },
      "execution_count": 1,
      "outputs": []
    },
    {
      "cell_type": "code",
      "source": [
        "list_01"
      ],
      "metadata": {
        "colab": {
          "base_uri": "https://localhost:8080/"
        },
        "id": "nclzDOhkXDUi",
        "outputId": "a28995d0-4841-4bb3-d4b6-deee185ad635"
      },
      "execution_count": 2,
      "outputs": [
        {
          "output_type": "execute_result",
          "data": {
            "text/plain": [
              "['Pi', 1, 2, 3, True, False, 'Miji']"
            ]
          },
          "metadata": {},
          "execution_count": 2
        }
      ]
    },
    {
      "cell_type": "markdown",
      "source": [
        "Testing Data Structure: SET"
      ],
      "metadata": {
        "id": "Pu8NDccuWYdB"
      }
    },
    {
      "cell_type": "code",
      "execution_count": null,
      "metadata": {
        "id": "rBmXVA-D8UFA"
      },
      "outputs": [],
      "source": [
        "set_var01={1, True, 'Pi', False, 3.14, 5}"
      ]
    },
    {
      "cell_type": "code",
      "source": [
        "set_var01"
      ],
      "metadata": {
        "colab": {
          "base_uri": "https://localhost:8080/"
        },
        "id": "A4L5c2dW8g8G",
        "outputId": "78e87c71-5a39-47be-cd48-b58bf782a1a4"
      },
      "execution_count": null,
      "outputs": [
        {
          "output_type": "execute_result",
          "data": {
            "text/plain": [
              "{1, 3.14, 5, False, 'Pi'}"
            ]
          },
          "metadata": {},
          "execution_count": 5
        }
      ]
    },
    {
      "cell_type": "code",
      "source": [
        "set_var02={3, 3.14, 2, False}"
      ],
      "metadata": {
        "id": "FIScHALd8q1w"
      },
      "execution_count": null,
      "outputs": []
    },
    {
      "cell_type": "code",
      "source": [
        "set_var02"
      ],
      "metadata": {
        "colab": {
          "base_uri": "https://localhost:8080/"
        },
        "id": "wPN5rIGF82iN",
        "outputId": "bafa3c68-970b-4464-d4d1-eee8f97102cd"
      },
      "execution_count": null,
      "outputs": [
        {
          "output_type": "execute_result",
          "data": {
            "text/plain": [
              "{False, 2, 3, 3.14}"
            ]
          },
          "metadata": {},
          "execution_count": 7
        }
      ]
    },
    {
      "cell_type": "code",
      "source": [
        "set_var01 and set_var02"
      ],
      "metadata": {
        "colab": {
          "base_uri": "https://localhost:8080/"
        },
        "id": "OtqpHHow85Js",
        "outputId": "39c92fe4-4ed1-4a02-da2f-315a2fe8ab78"
      },
      "execution_count": null,
      "outputs": [
        {
          "output_type": "execute_result",
          "data": {
            "text/plain": [
              "{False, 2, 3, 3.14}"
            ]
          },
          "metadata": {},
          "execution_count": 8
        }
      ]
    },
    {
      "cell_type": "code",
      "source": [
        "set_var01 or set_var02\n",
        "\n"
      ],
      "metadata": {
        "colab": {
          "base_uri": "https://localhost:8080/"
        },
        "id": "Tlq4YqUs_xat",
        "outputId": "4d8db452-c56b-4347-fa9c-5082e5413bcb"
      },
      "execution_count": null,
      "outputs": [
        {
          "output_type": "execute_result",
          "data": {
            "text/plain": [
              "{1, 3.14, 5, False, 'Pi'}"
            ]
          },
          "metadata": {},
          "execution_count": 9
        }
      ]
    }
  ]
}