{
  "nbformat": 4,
  "nbformat_minor": 0,
  "metadata": {
    "colab": {
      "name": "data_structure_01.ipynb",
      "provenance": [],
      "collapsed_sections": [],
      "authorship_tag": "ABX9TyNCwZUUT0ZW20zbXFrza5Pe",
      "include_colab_link": true
    },
    "kernelspec": {
      "name": "python3",
      "display_name": "Python 3"
    },
    "language_info": {
      "name": "python"
    }
  },
  "cells": [
    {
      "cell_type": "markdown",
      "metadata": {
        "id": "view-in-github",
        "colab_type": "text"
      },
      "source": [
        "<a href=\"https://colab.research.google.com/github/git-miji/data-structure-01/blob/main/data_structure_01.ipynb\" target=\"_parent\"><img src=\"https://colab.research.google.com/assets/colab-badge.svg\" alt=\"Open In Colab\"/></a>"
      ]
    },
    {
      "cell_type": "markdown",
      "source": [
        "Testing Data Structure: String and methods"
      ],
      "metadata": {
        "id": "R454mBgNgswm"
      }
    },
    {
      "cell_type": "code",
      "source": [
        "my_str='Miji'"
      ],
      "metadata": {
        "id": "-xh7QhijgyxV"
      },
      "execution_count": 3,
      "outputs": []
    },
    {
      "cell_type": "code",
      "source": [
        "my_str"
      ],
      "metadata": {
        "id": "AAlaNWaHg5vN",
        "outputId": "02f48b0f-2f1d-4260-8281-98723cb50a1f",
        "colab": {
          "base_uri": "https://localhost:8080/",
          "height": 35
        }
      },
      "execution_count": 4,
      "outputs": [
        {
          "output_type": "execute_result",
          "data": {
            "text/plain": [
              "'Miji'"
            ],
            "application/vnd.google.colaboratory.intrinsic+json": {
              "type": "string"
            }
          },
          "metadata": {},
          "execution_count": 4
        }
      ]
    },
    {
      "cell_type": "code",
      "source": [
        "my_str.isalnum() #Is my_str contains Alpha Numeric Value?\n"
      ],
      "metadata": {
        "id": "8CpQi9lGg_IT",
        "outputId": "3126bf9a-dde2-4cb4-d7cf-5fa356bbad15",
        "colab": {
          "base_uri": "https://localhost:8080/"
        }
      },
      "execution_count": 14,
      "outputs": [
        {
          "output_type": "execute_result",
          "data": {
            "text/plain": [
              "True"
            ]
          },
          "metadata": {},
          "execution_count": 14
        }
      ]
    },
    {
      "cell_type": "code",
      "source": [
        "my_str.startswith('M')"
      ],
      "metadata": {
        "id": "kX5n6hxFiNwm",
        "outputId": "f9772dd2-f43f-442b-cae8-6dd2510e3317",
        "colab": {
          "base_uri": "https://localhost:8080/"
        }
      },
      "execution_count": 18,
      "outputs": [
        {
          "output_type": "execute_result",
          "data": {
            "text/plain": [
              "True"
            ]
          },
          "metadata": {},
          "execution_count": 18
        }
      ]
    },
    {
      "cell_type": "code",
      "source": [
        "my_str.endswith('j')"
      ],
      "metadata": {
        "id": "4KIG4YzNiVQ4",
        "outputId": "2c5ea897-b757-4a81-de55-786811395a6b",
        "colab": {
          "base_uri": "https://localhost:8080/"
        }
      },
      "execution_count": 19,
      "outputs": [
        {
          "output_type": "execute_result",
          "data": {
            "text/plain": [
              "False"
            ]
          },
          "metadata": {},
          "execution_count": 19
        }
      ]
    },
    {
      "cell_type": "code",
      "source": [
        "my_str.isupper()"
      ],
      "metadata": {
        "id": "2TkMq9-7iCJo",
        "outputId": "180562a2-6c27-495f-a97f-a1213377164c",
        "colab": {
          "base_uri": "https://localhost:8080/"
        }
      },
      "execution_count": 16,
      "outputs": [
        {
          "output_type": "execute_result",
          "data": {
            "text/plain": [
              "False"
            ]
          },
          "metadata": {},
          "execution_count": 16
        }
      ]
    },
    {
      "cell_type": "code",
      "source": [
        "my_str.islower()"
      ],
      "metadata": {
        "id": "HhM9E1F2iJKN",
        "outputId": "41fb2297-1376-4598-8363-e99a98b29356",
        "colab": {
          "base_uri": "https://localhost:8080/"
        }
      },
      "execution_count": 17,
      "outputs": [
        {
          "output_type": "execute_result",
          "data": {
            "text/plain": [
              "False"
            ]
          },
          "metadata": {},
          "execution_count": 17
        }
      ]
    },
    {
      "cell_type": "code",
      "source": [
        "my_str.isdigit() # Is my_str digit?"
      ],
      "metadata": {
        "id": "XAUhn51IhyO7",
        "outputId": "71056029-0719-482c-cff4-e74a18f4c7a5",
        "colab": {
          "base_uri": "https://localhost:8080/"
        }
      },
      "execution_count": 15,
      "outputs": [
        {
          "output_type": "execute_result",
          "data": {
            "text/plain": [
              "False"
            ]
          },
          "metadata": {},
          "execution_count": 15
        }
      ]
    },
    {
      "cell_type": "markdown",
      "source": [
        "Testing Data Structure: List"
      ],
      "metadata": {
        "id": "qdn3rv67WuTN"
      }
    },
    {
      "cell_type": "code",
      "source": [
        "list_01=['Pi', 1, 2, 3, True, False, 'Miji']"
      ],
      "metadata": {
        "id": "7J-ixAqYWs5E"
      },
      "execution_count": 1,
      "outputs": []
    },
    {
      "cell_type": "code",
      "source": [
        "list_01"
      ],
      "metadata": {
        "colab": {
          "base_uri": "https://localhost:8080/"
        },
        "id": "nclzDOhkXDUi",
        "outputId": "a28995d0-4841-4bb3-d4b6-deee185ad635"
      },
      "execution_count": 2,
      "outputs": [
        {
          "output_type": "execute_result",
          "data": {
            "text/plain": [
              "['Pi', 1, 2, 3, True, False, 'Miji']"
            ]
          },
          "metadata": {},
          "execution_count": 2
        }
      ]
    },
    {
      "cell_type": "markdown",
      "source": [
        "Testing Data Structure: SET"
      ],
      "metadata": {
        "id": "Pu8NDccuWYdB"
      }
    },
    {
      "cell_type": "code",
      "execution_count": null,
      "metadata": {
        "id": "rBmXVA-D8UFA"
      },
      "outputs": [],
      "source": [
        "set_var01={1, True, 'Pi', False, 3.14, 5}"
      ]
    },
    {
      "cell_type": "code",
      "source": [
        "set_var01"
      ],
      "metadata": {
        "colab": {
          "base_uri": "https://localhost:8080/"
        },
        "id": "A4L5c2dW8g8G",
        "outputId": "78e87c71-5a39-47be-cd48-b58bf782a1a4"
      },
      "execution_count": null,
      "outputs": [
        {
          "output_type": "execute_result",
          "data": {
            "text/plain": [
              "{1, 3.14, 5, False, 'Pi'}"
            ]
          },
          "metadata": {},
          "execution_count": 5
        }
      ]
    },
    {
      "cell_type": "code",
      "source": [
        "set_var02={3, 3.14, 2, False}"
      ],
      "metadata": {
        "id": "FIScHALd8q1w"
      },
      "execution_count": null,
      "outputs": []
    },
    {
      "cell_type": "code",
      "source": [
        "set_var02"
      ],
      "metadata": {
        "colab": {
          "base_uri": "https://localhost:8080/"
        },
        "id": "wPN5rIGF82iN",
        "outputId": "bafa3c68-970b-4464-d4d1-eee8f97102cd"
      },
      "execution_count": null,
      "outputs": [
        {
          "output_type": "execute_result",
          "data": {
            "text/plain": [
              "{False, 2, 3, 3.14}"
            ]
          },
          "metadata": {},
          "execution_count": 7
        }
      ]
    },
    {
      "cell_type": "code",
      "source": [
        "set_var01 and set_var02"
      ],
      "metadata": {
        "colab": {
          "base_uri": "https://localhost:8080/"
        },
        "id": "OtqpHHow85Js",
        "outputId": "39c92fe4-4ed1-4a02-da2f-315a2fe8ab78"
      },
      "execution_count": null,
      "outputs": [
        {
          "output_type": "execute_result",
          "data": {
            "text/plain": [
              "{False, 2, 3, 3.14}"
            ]
          },
          "metadata": {},
          "execution_count": 8
        }
      ]
    },
    {
      "cell_type": "code",
      "source": [
        "set_var01 or set_var02\n",
        "\n"
      ],
      "metadata": {
        "colab": {
          "base_uri": "https://localhost:8080/"
        },
        "id": "Tlq4YqUs_xat",
        "outputId": "4d8db452-c56b-4347-fa9c-5082e5413bcb"
      },
      "execution_count": null,
      "outputs": [
        {
          "output_type": "execute_result",
          "data": {
            "text/plain": [
              "{1, 3.14, 5, False, 'Pi'}"
            ]
          },
          "metadata": {},
          "execution_count": 9
        }
      ]
    }
  ]
}