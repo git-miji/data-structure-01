{
  "nbformat": 4,
  "nbformat_minor": 0,
  "metadata": {
    "colab": {
      "name": "data_structure_01.ipynb",
      "provenance": [],
      "collapsed_sections": []
    },
    "kernelspec": {
      "name": "python3",
      "display_name": "Python 3"
    },
    "language_info": {
      "name": "python"
    }
  },
  "cells": [
    {
      "cell_type": "code",
      "execution_count": 4,
      "metadata": {
        "id": "rBmXVA-D8UFA"
      },
      "outputs": [],
      "source": [
        "set_var01={1, True, 'Pi', False, 3.14, 5}"
      ]
    },
    {
      "cell_type": "code",
      "source": [
        "set_var01"
      ],
      "metadata": {
        "colab": {
          "base_uri": "https://localhost:8080/"
        },
        "id": "A4L5c2dW8g8G",
        "outputId": "78e87c71-5a39-47be-cd48-b58bf782a1a4"
      },
      "execution_count": 5,
      "outputs": [
        {
          "output_type": "execute_result",
          "data": {
            "text/plain": [
              "{1, 3.14, 5, False, 'Pi'}"
            ]
          },
          "metadata": {},
          "execution_count": 5
        }
      ]
    },
    {
      "cell_type": "code",
      "source": [
        "set_var02={3, 3.14, 2, False}"
      ],
      "metadata": {
        "id": "FIScHALd8q1w"
      },
      "execution_count": 6,
      "outputs": []
    },
    {
      "cell_type": "code",
      "source": [
        "set_var02"
      ],
      "metadata": {
        "colab": {
          "base_uri": "https://localhost:8080/"
        },
        "id": "wPN5rIGF82iN",
        "outputId": "bafa3c68-970b-4464-d4d1-eee8f97102cd"
      },
      "execution_count": 7,
      "outputs": [
        {
          "output_type": "execute_result",
          "data": {
            "text/plain": [
              "{False, 2, 3, 3.14}"
            ]
          },
          "metadata": {},
          "execution_count": 7
        }
      ]
    },
    {
      "cell_type": "code",
      "source": [
        "set_var01 and set_var02"
      ],
      "metadata": {
        "colab": {
          "base_uri": "https://localhost:8080/"
        },
        "id": "OtqpHHow85Js",
        "outputId": "39c92fe4-4ed1-4a02-da2f-315a2fe8ab78"
      },
      "execution_count": 8,
      "outputs": [
        {
          "output_type": "execute_result",
          "data": {
            "text/plain": [
              "{False, 2, 3, 3.14}"
            ]
          },
          "metadata": {},
          "execution_count": 8
        }
      ]
    }
  ]
}