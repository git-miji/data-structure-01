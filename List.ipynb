{
  "nbformat": 4,
  "nbformat_minor": 0,
  "metadata": {
    "colab": {
      "name": "List.ipynb",
      "provenance": [],
      "collapsed_sections": [],
      "authorship_tag": "ABX9TyMNlSccq2H3/NSzaXDXpmFR",
      "include_colab_link": true
    },
    "kernelspec": {
      "name": "python3",
      "display_name": "Python 3"
    },
    "language_info": {
      "name": "python"
    }
  },
  "cells": [
    {
      "cell_type": "markdown",
      "metadata": {
        "id": "view-in-github",
        "colab_type": "text"
      },
      "source": [
        "<a href=\"https://colab.research.google.com/github/git-miji/data-structure-01/blob/Data-Structure-List/List.ipynb\" target=\"_parent\"><img src=\"https://colab.research.google.com/assets/colab-badge.svg\" alt=\"Open In Colab\"/></a>"
      ]
    },
    {
      "cell_type": "markdown",
      "source": [
        "#Data Structure: List\n",
        "A list is a data structure in Python that is mutable, or changeable, ordered sequence, of elements. Each element is inside of a list is called an item. Just as strings are defined as characters between quotes, lists are defined by having values between square brackets [ ]. A list item can contain different data types: int, float, str, bool, or even a list as an item, etc.\n",
        "\n",
        "Lists can be indexed and sliced. The first item has index [0], second has [1] etc.\n",
        "List may have items of different types.\n",
        "Lists are used to store multiple items in a single variable.\n",
        "\n",
        "#Ordered\n",
        "When we say, Lists are ordered, it means that the items have a defined order and that order will not change. If we add new items on the list, the new items will be placed at the end of the list.\n",
        "\n",
        "#Changeable\n",
        "The List is changeable, meaning that we can change, add, remove items in a list after it has been created.\n",
        "\n",
        "#Allow Duplicates\n",
        "Lists allow same value at different positions as lists are indexed.\n",
        "\n",
        "#List Length\n",
        "List length can determined by len() function.\n",
        "\n",
        "#List Constructor\n",
        "It is also possible to use the list() constructor when creating a new list.\n"
      ],
      "metadata": {
        "id": "lI3IVnYBUHYu"
      }
    },
    {
      "cell_type": "code",
      "execution_count": 33,
      "metadata": {
        "colab": {
          "base_uri": "https://localhost:8080/"
        },
        "id": "BcMSPxIvUE39",
        "outputId": "773ab8dc-53c6-48df-c6df-a18f44320be2"
      },
      "outputs": [
        {
          "output_type": "stream",
          "name": "stdout",
          "text": [
            "['Pi', 1, 2, 3, True, False, 'Miji', 'Good', 'Hitman']\n",
            "<class 'list'>\n",
            "9\n",
            "['AC DC', 3, 5, 7, True, False, 'Miji', 'Good', 'Hitman', 3, 7]\n"
          ]
        }
      ],
      "source": [
        "list_01=['Pi', 1, 2, 3, True, False, 'Miji', 'Good', 'Hitman']\n",
        "print(list_01)\n",
        "print(type(list_01))\n",
        "print(len(list_01))\n",
        "list_02=list(('AC DC', 3, 5, 7, True, False, 'Miji', 'Good', 'Hitman', 3, 7)) #Using list() constructor to create a list.\n",
        "print(list_02) #Here, list have duplicate value at different index.\n",
        "\n"
      ]
    },
    {
      "cell_type": "markdown",
      "source": [
        "#Append:\n",
        "To add items at the end of the list, we use append() method.\n",
        "Append() takes exactly 01 (One) item.\n",
        "#Insert Items\n",
        "To insert a new item in the list, without replacing any existing values, we can use insert() method. Only 01 (One) item can be insesrted. The insert() method inserts an item at the specified inedx.\n",
        "\n",
        "listname.insert(index, Value of item)\n",
        "\n",
        "If we insert more values than we replace, the new items will be inserted where we specified, and the existing old items will move accordingly."
      ],
      "metadata": {
        "id": "1GypZ74cVAsp"
      }
    },
    {
      "cell_type": "code",
      "source": [
        "list_01=['Pi', 1, 2, 3, True, False, 'Miji', 'Good', 'Hitman']\n",
        "list_01.append(['Avengers', 'Avatar', 'One Piece']) # This will add an item (list inside a list or nested list) at the end of the list.\n",
        "print(list_01)\n",
        "list_01.insert(3, 'Faraz') # This will insert an item 'Faraz' at index value 3.\n",
        "print(list_01)\n",
        "list_01[3:6]='Luffy', 'Zoro', 'Sanji', 'Usopp', 'Nami', 'Nico Robin' # This will insert more items than we replace from index value 3 and old existing items will move accordingly.\n",
        "print(list_01)"
      ],
      "metadata": {
        "colab": {
          "base_uri": "https://localhost:8080/"
        },
        "id": "DIVwu8cVVFPT",
        "outputId": "5fe928bf-038e-4725-ba40-c6bfdbecf525"
      },
      "execution_count": 2,
      "outputs": [
        {
          "output_type": "stream",
          "name": "stdout",
          "text": [
            "['Pi', 1, 2, 3, True, False, 'Miji', 'Good', 'Hitman', ['Avengers', 'Avatar', 'One Piece']]\n",
            "['Pi', 1, 2, 'Faraz', 3, True, False, 'Miji', 'Good', 'Hitman', ['Avengers', 'Avatar', 'One Piece']]\n",
            "['Pi', 1, 2, 'Luffy', 'Zoro', 'Sanji', 'Usopp', 'Nami', 'Nico Robin', False, 'Miji', 'Good', 'Hitman', ['Avengers', 'Avatar', 'One Piece']]\n"
          ]
        }
      ]
    },
    {
      "cell_type": "markdown",
      "source": [
        "#Access List Items: Indexing and Slicing\n",
        "Lists are indexed and can be sliced too. Lists can be expressed in reverse order.\n",
        "\n",
        "list_01=['Pi', 1, 2, 3, True, False, 'Miji', 'Good', 'Hitman']\n",
        "\n",
        "        0 1 2 3  4   5    6     7    8 Indexing\n",
        "\n",
        "       -9-8-7-6 -5   -4  -3    -2   -1 Reverse Indexing\n",
        "\n",
        "List[x:y:z] indicates --- x for initial index, y for ending index and, z for steps. "
      ],
      "metadata": {
        "id": "ZHP5J6g-ZnvI"
      }
    },
    {
      "cell_type": "code",
      "source": [
        "list_01=['Pi', 1, 2, 3, True, False, 'Miji', 'Good', 'Hitman']\n",
        "print(list_01) # This will print the value of list_01.\n",
        "print(list_01[4]) # This will print the value of item with index 4.\n",
        "print(list_01[0:4]) # This will print the value of items from index 0 to 3.\n",
        "print(list_01[:7]) # This will print the value of items from index 0 to 6.\n",
        "print(list_01[0:7:2]) # This will print the value of items from index 0 to 7 with step 2.\n",
        "print(list_01[-5:-1]) # This will print the values of list from reverse index -4 to -1.\n",
        "print(list_01[-10::]) # This will print the value of list from index value -1 to -9.\n",
        "print(list_01[-11:-1:3]) # This will print the value of list from index value -1 to -10 with step 3.\n",
        "print(list_01[-11:-1:2]) # This will print the value of list from index value -1 to -10 with step 2."
      ],
      "metadata": {
        "colab": {
          "base_uri": "https://localhost:8080/"
        },
        "id": "JTw3nHrHcYsn",
        "outputId": "e0d4e71e-4205-4d54-bd01-3122b8cb19b5"
      },
      "execution_count": 22,
      "outputs": [
        {
          "output_type": "stream",
          "name": "stdout",
          "text": [
            "['Pi', 1, 2, 3, True, False, 'Miji', 'Good', 'Hitman']\n",
            "True\n",
            "['Pi', 1, 2, 3]\n",
            "['Pi', 1, 2, 3, True, False, 'Miji']\n",
            "['Pi', 2, True, 'Miji']\n",
            "[True, False, 'Miji', 'Good']\n",
            "['Pi', 1, 2, 3, True, False, 'Miji', 'Good', 'Hitman']\n",
            "['Pi', 3, 'Miji']\n",
            "['Pi', 2, True, 'Miji']\n"
          ]
        }
      ]
    },
    {
      "cell_type": "markdown",
      "source": [
        "#Change the item Value of list\n",
        "To change the value of a specific item, refer to the index number. \n",
        "For single changing value, listname[index]='item value'\n",
        "For changing a range of item values: listname[intial index: last index]='item value', 'item value', 'item value'.\n"
      ],
      "metadata": {
        "id": "007gJWEjovkg"
      }
    },
    {
      "cell_type": "code",
      "source": [
        "list_01=['Pi', 1, 2, 3, True, False, 'Miji', 'Good', 'Hitman']\n",
        "list_01[3]='Munim'\n",
        "list_01[0:6]='Faraz', 'Munim', 'Miji', 'is', 'a', 'good boy' # This will print the value of list_01 with changed values excluding last index.\n",
        "print(list_01)"
      ],
      "metadata": {
        "colab": {
          "base_uri": "https://localhost:8080/"
        },
        "id": "ACIpdt8Eo6wT",
        "outputId": "69538a84-442f-4b2c-cc2b-548de738b660"
      },
      "execution_count": 40,
      "outputs": [
        {
          "output_type": "stream",
          "name": "stdout",
          "text": [
            "['Faraz', 'Munim', 'Miji', 'is', 'a', 'good boy', 'Miji', 'Good', 'Hitman']\n"
          ]
        }
      ]
    }
  ]
}