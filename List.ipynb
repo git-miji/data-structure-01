{
  "nbformat": 4,
  "nbformat_minor": 0,
  "metadata": {
    "colab": {
      "name": "List.ipynb",
      "provenance": [],
      "authorship_tag": "ABX9TyO9Nj+tx9NJlipGGeYLjsHH",
      "include_colab_link": true
    },
    "kernelspec": {
      "name": "python3",
      "display_name": "Python 3"
    },
    "language_info": {
      "name": "python"
    }
  },
  "cells": [
    {
      "cell_type": "markdown",
      "metadata": {
        "id": "view-in-github",
        "colab_type": "text"
      },
      "source": [
        "<a href=\"https://colab.research.google.com/github/git-miji/data-structure-01/blob/Data-Structure-List/List.ipynb\" target=\"_parent\"><img src=\"https://colab.research.google.com/assets/colab-badge.svg\" alt=\"Open In Colab\"/></a>"
      ]
    },
    {
      "cell_type": "markdown",
      "source": [
        "#Data Structure: List\n",
        "A list is a data structure in Python that is mutable, or changeable, ordered sequence, of elements. Each element is inside of a list is called an item. Just as strings are defined as characters between quotes, lists are defined by having values between square brackets [ ]. A list item can contain different data types: int, float, str, bool, etc.\n",
        "\n",
        "Lists can be indexed and sliced. The first item has index [0], second has [1] etc.\n",
        "List may have items of different types.\n",
        "Lists are used to store multiple items in a single variable.\n",
        "\n",
        "#Ordered\n",
        "When we say, Lists are ordered, it means that the items have a defined order and that order will not change. If we add new items on the list, the new items will be placed at the end of the list.\n",
        "\n",
        "#Changeable\n",
        "The List is changeable, meaning that we can change, add, remove items in a list after it has been created.\n",
        "\n",
        "#Allow Duplicates\n",
        "Lists allow same value at different positions as lists are indexed.\n",
        "\n",
        "#List Length\n",
        "List length can determined by len() function.\n",
        "\n",
        "#List Constructor\n",
        "It is also possible to use the list() constructor when creating a new list.\n"
      ],
      "metadata": {
        "id": "lI3IVnYBUHYu"
      }
    },
    {
      "cell_type": "code",
      "execution_count": 2,
      "metadata": {
        "colab": {
          "base_uri": "https://localhost:8080/"
        },
        "id": "BcMSPxIvUE39",
        "outputId": "44e9eced-2fe6-44ee-da76-3012a6971f5d"
      },
      "outputs": [
        {
          "output_type": "stream",
          "name": "stdout",
          "text": [
            "['Pi', 1, 2, 3, True, False, 'Miji', 'Good', 'Hitman']\n",
            "<class 'list'>\n",
            "9\n",
            "['AC DC', 3, 5, 7, True, False, 'Miji', 'Good', 'Hitman', 3, 7]\n"
          ]
        }
      ],
      "source": [
        "list_01=['Pi', 1, 2, 3, True, False, 'Miji', 'Good', 'Hitman']\n",
        "print(list_01)\n",
        "print(type(list_01))\n",
        "print(len(list_01))\n",
        "list_02=list(('AC DC', 3, 5, 7, True, False, 'Miji', 'Good', 'Hitman', 3, 7)) #Using list() constructor to create a list.\n",
        "print(list_02) #Here, list have duplicate value at different index.\n",
        "\n"
      ]
    },
    {
      "cell_type": "markdown",
      "source": [
        "#Append:\n",
        "Append is used to add elements in the end of the list."
      ],
      "metadata": {
        "id": "1GypZ74cVAsp"
      }
    },
    {
      "cell_type": "code",
      "source": [
        "list_01.append('Avengers')\n",
        "print(list_01)"
      ],
      "metadata": {
        "colab": {
          "base_uri": "https://localhost:8080/"
        },
        "id": "DIVwu8cVVFPT",
        "outputId": "d409e8b9-aecd-4f8a-ee88-a3869d4f273c"
      },
      "execution_count": 3,
      "outputs": [
        {
          "output_type": "stream",
          "name": "stdout",
          "text": [
            "['Pi', 1, 2, 3, True, False, 'Miji', 'Good', 'Hitman', 'Avengers']\n"
          ]
        }
      ]
    },
    {
      "cell_type": "markdown",
      "source": [
        "#Access List Items: Indexing and Slicing\n",
        "Lists are indexed and can be sliced too. Lists can be expressed in reverse order.\n",
        "\n",
        "list_01=['Pi', 1, 2, 3, True, False, 'Miji', 'Good', 'Hitman']\n",
        "\n",
        "        0 1 2 3  4   5    6     7    8 Indexing\n",
        "\n",
        "       -9-8-7-6 -5   -4  -3    -2   -1 Reverse Indexing\n",
        "\n",
        "List[x:y:z] indicates --- x for initial index, y for ending index and, z for steps. "
      ],
      "metadata": {
        "id": "ZHP5J6g-ZnvI"
      }
    },
    {
      "cell_type": "code",
      "source": [
        "print(list_01) # This will print the value of list_01.\n",
        "print(list_01[4]) # This will print the value of item with index 4.\n",
        "print(list_01[0:4]) # This will print the value of items from index 0 to 3.\n",
        "print(list_01[:7]) # This will print the value of items from index 0 to 6.\n",
        "print(list_01[0:7:2]) # This will print the value of items from index 0 to 7 with step 2.\n",
        "print(list_01[-5:-1]) # This will print the values of list from reverse index -4 to -1.\n",
        "print(list_01[-10::]) # This will print the value of list from index value -1 to -9.\n",
        "print(list_01[-10:-1:3]) # This will print the value of list from index value -1 to -9 with step 3."
      ],
      "metadata": {
        "colab": {
          "base_uri": "https://localhost:8080/"
        },
        "id": "JTw3nHrHcYsn",
        "outputId": "99286e0c-f55f-4bfe-8983-a8d9d5bd8bd2"
      },
      "execution_count": 17,
      "outputs": [
        {
          "output_type": "stream",
          "name": "stdout",
          "text": [
            "['Pi', 1, 2, 3, True, False, 'Miji', 'Good', 'Hitman', 'Avengers']\n",
            "True\n",
            "['Pi', 1, 2, 3]\n",
            "['Pi', 1, 2, 3, True, False, 'Miji']\n",
            "['Pi', 2, True, 'Miji']\n",
            "[False, 'Miji', 'Good', 'Hitman']\n",
            "['Pi', 1, 2, 3, True, False, 'Miji', 'Good', 'Hitman', 'Avengers']\n",
            "['Pi', 3, 'Miji']\n"
          ]
        }
      ]
    }
  ]
}