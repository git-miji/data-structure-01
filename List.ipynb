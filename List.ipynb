{
  "nbformat": 4,
  "nbformat_minor": 0,
  "metadata": {
    "colab": {
      "name": "List.ipynb",
      "provenance": [],
      "authorship_tag": "ABX9TyM3qvtUeUEiXxbW5OFURzg/",
      "include_colab_link": true
    },
    "kernelspec": {
      "name": "python3",
      "display_name": "Python 3"
    },
    "language_info": {
      "name": "python"
    }
  },
  "cells": [
    {
      "cell_type": "markdown",
      "metadata": {
        "id": "view-in-github",
        "colab_type": "text"
      },
      "source": [
        "<a href=\"https://colab.research.google.com/github/git-miji/data-structure-01/blob/Data-Structure-List/List.ipynb\" target=\"_parent\"><img src=\"https://colab.research.google.com/assets/colab-badge.svg\" alt=\"Open In Colab\"/></a>"
      ]
    },
    {
      "cell_type": "markdown",
      "source": [
        "Data Structure: List\n",
        "A list is a data structure in Python that is mutable, or changeable, ordered sequence, of elements. Each element is inside of a list is called an item. Just as strings are defined as characters between quotes, lists are defined by having values between square brackets [ ]."
      ],
      "metadata": {
        "id": "lI3IVnYBUHYu"
      }
    },
    {
      "cell_type": "code",
      "execution_count": null,
      "metadata": {
        "id": "BcMSPxIvUE39"
      },
      "outputs": [],
      "source": [
        ""
      ]
    }
  ]
}