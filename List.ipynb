{
  "nbformat": 4,
  "nbformat_minor": 0,
  "metadata": {
    "colab": {
      "name": "List.ipynb",
      "provenance": [],
      "authorship_tag": "ABX9TyMxqnlTEARg6AF5Tl4nJC8d",
      "include_colab_link": true
    },
    "kernelspec": {
      "name": "python3",
      "display_name": "Python 3"
    },
    "language_info": {
      "name": "python"
    }
  },
  "cells": [
    {
      "cell_type": "markdown",
      "metadata": {
        "id": "view-in-github",
        "colab_type": "text"
      },
      "source": [
        "<a href=\"https://colab.research.google.com/github/git-miji/data-structure-01/blob/Data-Structure-List/List.ipynb\" target=\"_parent\"><img src=\"https://colab.research.google.com/assets/colab-badge.svg\" alt=\"Open In Colab\"/></a>"
      ]
    },
    {
      "cell_type": "markdown",
      "source": [
        "#Data Structure: List\n",
        "A list is a data structure in Python that is mutable, or changeable, ordered sequence, of elements. Each element is inside of a list is called an item. Just as strings are defined as characters between quotes, lists are defined by having values between square brackets [ ].\n",
        "\n",
        "Lists can be indexed and sliced. The first item has index [0], second has [1] etc.\n",
        "\n",
        "List may have items of different types.\n",
        "\n",
        "Lists are used to store multiple items in a single variable.\n",
        "\n",
        "#Ordered\n",
        "\n",
        "When we say, Lists are ordered, it means that the items have a defined order and that order will not change. If we add new items on the list, the new items will be placed at the end of the list.\n",
        "\n",
        "#Changeable\n",
        "\n",
        "The List is changeable, meaning that we can change, add, remove items in a list after it has been created.\n",
        "\n",
        "#Allow Duplicates\n",
        "\n",
        "Lists allow same value at different positions as lists are indexed.\n",
        "\n",
        "#List Length\n"
      ],
      "metadata": {
        "id": "lI3IVnYBUHYu"
      }
    },
    {
      "cell_type": "code",
      "execution_count": null,
      "metadata": {
        "colab": {
          "base_uri": "https://localhost:8080/"
        },
        "id": "BcMSPxIvUE39",
        "outputId": "58d4b349-d647-43db-e4a9-d7676b69888e"
      },
      "outputs": [
        {
          "output_type": "stream",
          "name": "stdout",
          "text": [
            "['Pi', 1, 2, 3, True, False, 'Miji', 'Good', 'Hitman']\n",
            "<class 'list'>\n",
            "9\n"
          ]
        }
      ],
      "source": [
        "list_01=['Pi', 1, 2, 3, True, False, 'Miji', 'Good', 'Hitman']\n",
        "print(list_01)\n",
        "print(type(list_01))\n",
        "print(len(list_01))\n"
      ]
    },
    {
      "cell_type": "markdown",
      "source": [
        "#Append:\n",
        "Append is used to add elements in the end of the list"
      ],
      "metadata": {
        "id": "1GypZ74cVAsp"
      }
    },
    {
      "cell_type": "code",
      "source": [
        "list_01.append('Avengers')\n",
        "print(list_01)"
      ],
      "metadata": {
        "colab": {
          "base_uri": "https://localhost:8080/"
        },
        "id": "DIVwu8cVVFPT",
        "outputId": "48f76e1e-01fc-49f8-b978-7296d4a724a0"
      },
      "execution_count": null,
      "outputs": [
        {
          "output_type": "stream",
          "name": "stdout",
          "text": [
            "['Pi', 1, 2, 3, True, False, 'Miji', 'Good', 'Hitman', 'Avengers']\n"
          ]
        }
      ]
    }
  ]
}