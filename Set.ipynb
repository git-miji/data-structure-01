{
  "nbformat": 4,
  "nbformat_minor": 0,
  "metadata": {
    "colab": {
      "name": "Set.ipynb",
      "provenance": [],
      "authorship_tag": "ABX9TyP6zklLz7EZoXoAkr+QYVPw",
      "include_colab_link": true
    },
    "kernelspec": {
      "name": "python3",
      "display_name": "Python 3"
    },
    "language_info": {
      "name": "python"
    }
  },
  "cells": [
    {
      "cell_type": "markdown",
      "metadata": {
        "id": "view-in-github",
        "colab_type": "text"
      },
      "source": [
        "<a href=\"https://colab.research.google.com/github/git-miji/data-structure-01/blob/Data-Structure-Set/Set.ipynb\" target=\"_parent\"><img src=\"https://colab.research.google.com/assets/colab-badge.svg\" alt=\"Open In Colab\"/></a>"
      ]
    },
    {
      "cell_type": "markdown",
      "source": [
        "#Set\n",
        "A set is an unordered collection of data type that is iterable, mutable, and has no duplicate elements. Python's set class represents the mathematical notions of a set. This is based on the data structure known as a hash table."
      ],
      "metadata": {
        "id": "PLbY5_kk93w9"
      }
    },
    {
      "cell_type": "code",
      "execution_count": 1,
      "metadata": {
        "id": "e33xfyuQ91Qg"
      },
      "outputs": [],
      "source": [
        "set_var={'Avengers', 'Avatar', 'Hitman', 'Ironman', 'Ninja'}"
      ]
    }
  ]
}