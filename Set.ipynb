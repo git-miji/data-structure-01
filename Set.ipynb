{
  "nbformat": 4,
  "nbformat_minor": 0,
  "metadata": {
    "colab": {
      "name": "Set.ipynb",
      "provenance": [],
      "collapsed_sections": [],
      "authorship_tag": "ABX9TyMoxhV7CeYVCp7DVYdMreKp",
      "include_colab_link": true
    },
    "kernelspec": {
      "name": "python3",
      "display_name": "Python 3"
    },
    "language_info": {
      "name": "python"
    }
  },
  "cells": [
    {
      "cell_type": "markdown",
      "metadata": {
        "id": "view-in-github",
        "colab_type": "text"
      },
      "source": [
        "<a href=\"https://colab.research.google.com/github/git-miji/data-structure-01/blob/Data-Structure-Set/Set.ipynb\" target=\"_parent\"><img src=\"https://colab.research.google.com/assets/colab-badge.svg\" alt=\"Open In Colab\"/></a>"
      ]
    },
    {
      "cell_type": "markdown",
      "source": [
        "#Set\n",
        "A set is an unordered collection of data type that is iterable, mutable, and has no duplicate elements. Python's set class represents the mathematical notions of a set, curley brackets. This is based on the data structure known as a hash table.\n",
        "\n",
        "#Indexing\n",
        "Set does not support indexing."
      ],
      "metadata": {
        "id": "PLbY5_kk93w9"
      }
    },
    {
      "cell_type": "code",
      "source": [
        "#Defining an empty set\n",
        "set_var=set()\n",
        "print(set_var)\n",
        "print(type(set_var))"
      ],
      "metadata": {
        "colab": {
          "base_uri": "https://localhost:8080/"
        },
        "id": "8eeR_obM_XRO",
        "outputId": "bb5f10cc-fdbd-4d54-ac91-6846c0b6c688"
      },
      "execution_count": null,
      "outputs": [
        {
          "output_type": "stream",
          "name": "stdout",
          "text": [
            "set()\n",
            "<class 'set'>\n"
          ]
        }
      ]
    },
    {
      "cell_type": "markdown",
      "source": [
        "#Converting a list to a set.\n",
        "Say, list_01=['faraz', 'Miji', 'Pi', True, False, 'Pi', 3.14, 1, 3]\n",
        "So, set_list_01= set(list_01)"
      ],
      "metadata": {
        "id": "dGURcdo18PYX"
      }
    },
    {
      "cell_type": "code",
      "source": [
        "list_01=['faraz', 'Miji', 'Pi', True, False, 'Pi', 3.14, 1, 3]\n",
        "set_list_01= set(list_01)\n",
        "set_list_01"
      ],
      "metadata": {
        "colab": {
          "base_uri": "https://localhost:8080/"
        },
        "id": "CPv0fS8682sg",
        "outputId": "e9ab79d0-8b54-4e74-9c9c-09ddbfa88e3d"
      },
      "execution_count": null,
      "outputs": [
        {
          "output_type": "execute_result",
          "data": {
            "text/plain": [
              "{3, 3.14, False, 'Miji', 'Pi', True, 'faraz'}"
            ]
          },
          "metadata": {},
          "execution_count": 1
        }
      ]
    },
    {
      "cell_type": "code",
      "execution_count": null,
      "metadata": {
        "id": "e33xfyuQ91Qg"
      },
      "outputs": [],
      "source": [
        "set_var={'Avengers', 'Avatar', 'Hitman', 'Ironman', 'Ninja'}"
      ]
    },
    {
      "cell_type": "markdown",
      "source": [
        "# Set Operations:\n",
        "\n",
        "# Add() Method\n",
        "\n",
        "This method is used to add new elements to the set.\n",
        "\n",
        "setname.add('element')\n",
        "\n",
        "If we add an existing elelment of the set, nothing will happen as there is no duplicate in set.\n",
        "\n",
        "# Remove() method:\n",
        "This method is used to remove a element from the set.\n",
        "setname.remove('element')\n",
        "\n",
        "# In built Methods for Set\n",
        "\n",
        "Union() Method: To combine all elements of two set, we can use union method. Say, two set, A and B. So, to union those two, we will write:\n",
        "\n",
        "# A union B\n",
        "\n",
        "Intersection() Method: If we want to find the common elements between set 1 and set 2, we use intersection method.\n",
        "\n",
        "# set1.intersection(set2)\n",
        "\n",
        "But, if we want to have the common elements in the set1, we need to update the set, so that, set1 will have only common elements in it.\n",
        "\n",
        "# set1.intersection_update(set2)\n",
        "\n",
        "Set2 will remain as it was before the update operation.\n",
        "\n",
        "# Superset() Method:\n",
        "To check wether a set is superset of another set, we can use this built in method. Say, two set, A and B. We will write the following command:\n",
        "\n",
        "A.issuperset(B)\n",
        "\n",
        "# Subset() Method\n",
        "\n",
        "To check wether a set is subset of another set, we can use this built in method. Say, two set, A and B. We will write the following command:\n",
        "\n",
        "A.issubset(B)\n",
        "\n",
        "# Diiference() Method\n",
        "\n",
        "If we want to know the different elements of set1 with set2, we use difference() method. This method will show show elements are different in set1 with set2.\n",
        "\n",
        "set1.difference (set2)\n",
        "\n",
        "If we want to know the difference elements in set2 with set1, we use difference() method.\n",
        "\n",
        "set2.difference (set1)\n",
        "\n",
        "#Verifying Element\n",
        "\n",
        "With the help of 'in' command, we can verify wether an element exists in a set or not. Let us assume a set A. To find an element we will write:\n",
        "element in A\n",
        "\n",
        "If the element exists, the command will yeild True else False."
      ],
      "metadata": {
        "id": "53QMrMDy9FuM"
      }
    },
    {
      "cell_type": "code",
      "source": [
        "set_1={'Avengers', 'Avatar', 'Nami', 'Hitman', 'Ironman', 'Sanji', 'Shanks', 'Ninja'}\n",
        "set_2={'Avengers', 'Zoro', 'One Piece','Nico Robin', 'Death Note', 'Ironman', 'Hulk'}\n",
        "print(set_1.issuperset(set_2)) # Checking wether set_1 is superset of set_2. \n",
        "print(set_1.issubset(set_2)) # Checking wether set_1 is subset of set_2.\n",
        "print(set_1,'\\n',set_2) # Printing set_1 and set_2 in two different line.\n",
        "set_1.add('Godzilla') #Adding an element in set_1.\n",
        "print(set_1)\n",
        "set_1.remove('Avatar') #Removing an element from set_1.\n",
        "print(set_1)\n",
        "'Nami' in set_1 #Verifying an element in set_1."
      ],
      "metadata": {
        "colab": {
          "base_uri": "https://localhost:8080/"
        },
        "id": "tE4CK5Kt9zJp",
        "outputId": "2f0e3dfd-f05d-48c5-aa20-01b1251dd1d3"
      },
      "execution_count": null,
      "outputs": [
        {
          "output_type": "stream",
          "name": "stdout",
          "text": [
            "False\n",
            "False\n",
            "{'Ironman', 'Shanks', 'Avengers', 'Avatar', 'Ninja', 'Sanji', 'Nami', 'Hitman'} \n",
            " {'Ironman', 'Avengers', 'Zoro', 'Nico Robin', 'Death Note', 'Hulk', 'One Piece'}\n",
            "{'Ironman', 'Shanks', 'Avengers', 'Avatar', 'Godzilla', 'Ninja', 'Sanji', 'Nami', 'Hitman'}\n",
            "{'Ironman', 'Shanks', 'Avengers', 'Godzilla', 'Ninja', 'Sanji', 'Nami', 'Hitman'}\n"
          ]
        },
        {
          "output_type": "execute_result",
          "data": {
            "text/plain": [
              "True"
            ]
          },
          "metadata": {},
          "execution_count": 14
        }
      ]
    },
    {
      "cell_type": "code",
      "source": [
        "set_1={'Avengers', 'Avatar', 'Nami', 'Hitman', 'Ironman', 'Sanji', 'Shanks', 'Ninja'}\n",
        "set_2={'Avengers', 'Zoro', 'One Piece','Nico Robin', 'Death Note', 'Ironman', 'Hulk'}\n",
        "print(set_2.difference(set_1))\n",
        "print(set_1.intersection(set_2))\n",
        "set_1.intersection_update(set_2)\n",
        "print(set_1)\n",
        "print(set_2)"
      ],
      "metadata": {
        "colab": {
          "base_uri": "https://localhost:8080/"
        },
        "id": "-OgjWMmnarkc",
        "outputId": "85731900-cde7-4460-f668-5197217fd462"
      },
      "execution_count": null,
      "outputs": [
        {
          "output_type": "stream",
          "name": "stdout",
          "text": [
            "{'Nico Robin', 'Hulk', 'Zoro', 'Death Note', 'One Piece'}\n",
            "{'Ironman', 'Avengers'}\n",
            "{'Ironman', 'Avengers'}\n",
            "{'Nico Robin', 'Ironman', 'Avengers', 'Hulk', 'Zoro', 'Death Note', 'One Piece'}\n"
          ]
        }
      ]
    },
    {
      "cell_type": "markdown",
      "source": [
        "# Loop Through Set\n",
        "\n",
        "We can easily find all the elements of a set using for loop.\n",
        "\n",
        "Let us assume the set A={'Avengers', 'Avatar', 'Nami', 'Hitman', 'Ironman', 'Sanji', 'Shanks', 'Ninja'}\n",
        "\n",
        "for elemets in A:\n",
        "\n",
        "          print(elements)"
      ],
      "metadata": {
        "id": "Ojz6t4NJaD5g"
      }
    },
    {
      "cell_type": "code",
      "source": [
        "A={'Avengers', 'Avatar', 'Nami', 'Hitman', 'Ironman', 'Sanji', 'Shanks', 'Ninja'}\n",
        "\n",
        "for elements in A:\n",
        "  print(elements)"
      ],
      "metadata": {
        "colab": {
          "base_uri": "https://localhost:8080/"
        },
        "id": "jmFF2vXLasa2",
        "outputId": "be347bfc-83c5-4bf2-a8ec-d6517815fa5f"
      },
      "execution_count": 2,
      "outputs": [
        {
          "output_type": "stream",
          "name": "stdout",
          "text": [
            "Hitman\n",
            "Ninja\n",
            "Sanji\n",
            "Shanks\n",
            "Avengers\n",
            "Avatar\n",
            "Ironman\n",
            "Nami\n"
          ]
        }
      ]
    }
  ]
}