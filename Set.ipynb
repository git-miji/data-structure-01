{
  "nbformat": 4,
  "nbformat_minor": 0,
  "metadata": {
    "colab": {
      "name": "Set.ipynb",
      "provenance": [],
      "authorship_tag": "ABX9TyODmpKTR0FPk/LOBYl+AIIO",
      "include_colab_link": true
    },
    "kernelspec": {
      "name": "python3",
      "display_name": "Python 3"
    },
    "language_info": {
      "name": "python"
    }
  },
  "cells": [
    {
      "cell_type": "markdown",
      "metadata": {
        "id": "view-in-github",
        "colab_type": "text"
      },
      "source": [
        "<a href=\"https://colab.research.google.com/github/git-miji/data-structure-01/blob/Data-Structure-Set/Set.ipynb\" target=\"_parent\"><img src=\"https://colab.research.google.com/assets/colab-badge.svg\" alt=\"Open In Colab\"/></a>"
      ]
    },
    {
      "cell_type": "markdown",
      "source": [
        "#Set\n",
        "A set is an unordered collection of data type that is iterable, mutable, and has no duplicate elements. Python's set class represents the mathematical notions of a set, curley brackets. This is based on the data structure known as a hash table."
      ],
      "metadata": {
        "id": "PLbY5_kk93w9"
      }
    },
    {
      "cell_type": "code",
      "source": [
        "#Defining an empty set\n",
        "set_var=set()\n",
        "print(set_var)\n",
        "print(type(set_var))"
      ],
      "metadata": {
        "colab": {
          "base_uri": "https://localhost:8080/"
        },
        "id": "8eeR_obM_XRO",
        "outputId": "bb5f10cc-fdbd-4d54-ac91-6846c0b6c688"
      },
      "execution_count": null,
      "outputs": [
        {
          "output_type": "stream",
          "name": "stdout",
          "text": [
            "set()\n",
            "<class 'set'>\n"
          ]
        }
      ]
    },
    {
      "cell_type": "markdown",
      "source": [
        "#Converting a list to a set.\n",
        "Say, list_01=['faraz', 'Miji', 'Pi', True, False, 'Pi', 3.14, 1, 3]\n",
        "So, set_list_01= set(list_01)"
      ],
      "metadata": {
        "id": "dGURcdo18PYX"
      }
    },
    {
      "cell_type": "code",
      "source": [
        "list_01=['faraz', 'Miji', 'Pi', True, False, 'Pi', 3.14, 1, 3]\n",
        "set_list_01= set(list_01)\n",
        "set_list_01"
      ],
      "metadata": {
        "colab": {
          "base_uri": "https://localhost:8080/"
        },
        "id": "CPv0fS8682sg",
        "outputId": "e9ab79d0-8b54-4e74-9c9c-09ddbfa88e3d"
      },
      "execution_count": 1,
      "outputs": [
        {
          "output_type": "execute_result",
          "data": {
            "text/plain": [
              "{3, 3.14, False, 'Miji', 'Pi', True, 'faraz'}"
            ]
          },
          "metadata": {},
          "execution_count": 1
        }
      ]
    },
    {
      "cell_type": "code",
      "execution_count": null,
      "metadata": {
        "id": "e33xfyuQ91Qg"
      },
      "outputs": [],
      "source": [
        "set_var={'Avengers', 'Avatar', 'Hitman', 'Ironman', 'Ninja'}"
      ]
    },
    {
      "cell_type": "markdown",
      "source": [
        "#Set Operations:\n",
        "Add() Method: This method is used to add new elements to the set.\n",
        "setname.add('element')\n",
        "If we add an existing elelment of the set, nothing will happen as there is no duplicate in set.\n",
        "\n",
        "Remove() method: This method is used to remove a element from the set.\n",
        "setname.remove('element')"
      ],
      "metadata": {
        "id": "53QMrMDy9FuM"
      }
    },
    {
      "cell_type": "code",
      "source": [
        "set_var={'Avengers', 'Avatar', 'Hitman', 'Ironman', 'Ninja'}\n",
        "print(set_var.add('Godzilla'))\n",
        "print(set_var.remove('Avatar'))"
      ],
      "metadata": {
        "colab": {
          "base_uri": "https://localhost:8080/"
        },
        "id": "tE4CK5Kt9zJp",
        "outputId": "0b0fd3ca-7af5-4b21-ea9a-71c82d098101"
      },
      "execution_count": 3,
      "outputs": [
        {
          "output_type": "stream",
          "name": "stdout",
          "text": [
            "None\n",
            "None\n"
          ]
        }
      ]
    }
  ]
}