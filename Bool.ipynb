{
  "nbformat": 4,
  "nbformat_minor": 0,
  "metadata": {
    "colab": {
      "name": "Bool.ipynb",
      "provenance": [],
      "authorship_tag": "ABX9TyMW4cw45wT1IbYF+8ti4VQy",
      "include_colab_link": true
    },
    "kernelspec": {
      "name": "python3",
      "display_name": "Python 3"
    },
    "language_info": {
      "name": "python"
    }
  },
  "cells": [
    {
      "cell_type": "markdown",
      "metadata": {
        "id": "view-in-github",
        "colab_type": "text"
      },
      "source": [
        "<a href=\"https://colab.research.google.com/github/git-miji/data-structure-01/blob/Data-Structure-Boolean/Bool.ipynb\" target=\"_parent\"><img src=\"https://colab.research.google.com/assets/colab-badge.svg\" alt=\"Open In Colab\"/></a>"
      ]
    },
    {
      "cell_type": "markdown",
      "source": [
        "#Boolean\n",
        "Booleans represent one of the two values: True or False.\\\n",
        "In Python, we can evaluate an expression and get one of the two answer: True / False.\\\n",
        "\n",
        "When we compare two values, the expression is evaluated and Python returns the Boolean answer.\n"
      ],
      "metadata": {
        "id": "TDv9YW1hxAja"
      }
    },
    {
      "cell_type": "code",
      "execution_count": 1,
      "metadata": {
        "colab": {
          "base_uri": "https://localhost:8080/"
        },
        "id": "cQ02V1hrw9Bo",
        "outputId": "f0b581a0-c865-4eee-dfbd-300a52207c2c"
      },
      "outputs": [
        {
          "output_type": "stream",
          "name": "stdout",
          "text": [
            "<class 'bool'>\n"
          ]
        }
      ],
      "source": [
        "print(type(True))"
      ]
    },
    {
      "cell_type": "code",
      "source": [
        "print(10>8.5)"
      ],
      "metadata": {
        "colab": {
          "base_uri": "https://localhost:8080/"
        },
        "id": "7ddoc7jeyDLi",
        "outputId": "cdae29d8-68ed-4912-bd7d-dd0178f417b6"
      },
      "execution_count": 2,
      "outputs": [
        {
          "output_type": "stream",
          "name": "stdout",
          "text": [
            "True\n"
          ]
        }
      ]
    }
  ]
}