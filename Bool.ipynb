{
  "nbformat": 4,
  "nbformat_minor": 0,
  "metadata": {
    "colab": {
      "name": "Bool.ipynb",
      "provenance": [],
      "authorship_tag": "ABX9TyPl/t9b0Gkl10F7s7Uu8w9U",
      "include_colab_link": true
    },
    "kernelspec": {
      "name": "python3",
      "display_name": "Python 3"
    },
    "language_info": {
      "name": "python"
    }
  },
  "cells": [
    {
      "cell_type": "markdown",
      "metadata": {
        "id": "view-in-github",
        "colab_type": "text"
      },
      "source": [
        "<a href=\"https://colab.research.google.com/github/git-miji/data-structure-01/blob/Data-Structure-Boolean/Bool.ipynb\" target=\"_parent\"><img src=\"https://colab.research.google.com/assets/colab-badge.svg\" alt=\"Open In Colab\"/></a>"
      ]
    },
    {
      "cell_type": "markdown",
      "source": [
        "#Boolean\n",
        "Booleans represent one of the two values: True or False.\n",
        "\n",
        "In Python, we can evaluate an expression and get one of the two answer: True / False.\n",
        "\n",
        "When we compare two values, the expression is evaluated and Python returns the Boolean answer.\n"
      ],
      "metadata": {
        "id": "TDv9YW1hxAja"
      }
    },
    {
      "cell_type": "code",
      "execution_count": 3,
      "metadata": {
        "colab": {
          "base_uri": "https://localhost:8080/"
        },
        "id": "cQ02V1hrw9Bo",
        "outputId": "ef77b0d1-df45-4203-d19a-b0d617b2e5f6"
      },
      "outputs": [
        {
          "output_type": "stream",
          "name": "stdout",
          "text": [
            "<class 'bool'>\n",
            "True\n",
            "True\n",
            "False\n"
          ]
        }
      ],
      "source": [
        "print(type(True))\n",
        "print(10>8.5)\n",
        "print(10==10)\n",
        "print(10<9.99)"
      ]
    },
    {
      "cell_type": "markdown",
      "source": [
        "When we run a condition in an if statement, Python returns true or false."
      ],
      "metadata": {
        "id": "JD-3QE2kzsDg"
      }
    },
    {
      "cell_type": "code",
      "source": [
        "a=300\n",
        "b=400\n",
        "if a>b:\n",
        "  print('a is greater than b')\n",
        "else:\n",
        "  print('b is greater than a')"
      ],
      "metadata": {
        "colab": {
          "base_uri": "https://localhost:8080/"
        },
        "id": "7ddoc7jeyDLi",
        "outputId": "b8eb8ec9-bbe3-463a-f1bf-9b2afe372633"
      },
      "execution_count": 5,
      "outputs": [
        {
          "output_type": "stream",
          "name": "stdout",
          "text": [
            "b is greater than a\n"
          ]
        }
      ]
    },
    {
      "cell_type": "markdown",
      "source": [
        "#Some Values are False.\n",
        "If an object is made from a class with a -len- function, that returns 0 or False, bool value will also be False for that value.\n",
        "\n",
        "The following will return false:"
      ],
      "metadata": {
        "id": "U-FoPDxf0T7w"
      }
    },
    {
      "cell_type": "code",
      "source": [
        "print(bool(False))\n",
        "print(bool(None))\n",
        "print(bool(0))\n",
        "print(bool(\"\"))\n"
      ],
      "metadata": {
        "colab": {
          "base_uri": "https://localhost:8080/"
        },
        "id": "Zn3PzYPd0dQ4",
        "outputId": "9a674e06-780c-454f-8aa1-b7f0e0c3c081"
      },
      "execution_count": 7,
      "outputs": [
        {
          "output_type": "stream",
          "name": "stdout",
          "text": [
            "False\n",
            "False\n",
            "False\n",
            "False\n"
          ]
        }
      ]
    },
    {
      "cell_type": "markdown",
      "source": [
        "#Built in Function for Boolean\n",
        "\n",
        "Python has many built in function that return a boolean value, like the \"isinstance()\" function, which can be used to determine if an objetc is of certain data type."
      ],
      "metadata": {
        "id": "mvFZqqi-1_Ny"
      }
    },
    {
      "cell_type": "code",
      "source": [
        "x=3.14\n",
        "print(isinstance(x, int))\n",
        "print(isinstance(x, float))\n",
        "print(isinstance(x, str))"
      ],
      "metadata": {
        "colab": {
          "base_uri": "https://localhost:8080/"
        },
        "id": "BmHKCxNy2aLZ",
        "outputId": "f95a275e-17a0-4631-a3f3-31a455ab216c"
      },
      "execution_count": 9,
      "outputs": [
        {
          "output_type": "stream",
          "name": "stdout",
          "text": [
            "False\n",
            "True\n",
            "False\n"
          ]
        }
      ]
    }
  ]
}