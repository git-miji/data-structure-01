{
  "nbformat": 4,
  "nbformat_minor": 0,
  "metadata": {
    "colab": {
      "name": "Dictionary.ipynb",
      "provenance": [],
      "collapsed_sections": [],
      "authorship_tag": "ABX9TyO1/1tpYoaKnozH3G2FAelo",
      "include_colab_link": true
    },
    "kernelspec": {
      "name": "python3",
      "display_name": "Python 3"
    },
    "language_info": {
      "name": "python"
    }
  },
  "cells": [
    {
      "cell_type": "markdown",
      "metadata": {
        "id": "view-in-github",
        "colab_type": "text"
      },
      "source": [
        "<a href=\"https://colab.research.google.com/github/git-miji/data-structure-01/blob/Data-Structure-Dictionary/Dictionary.ipynb\" target=\"_parent\"><img src=\"https://colab.research.google.com/assets/colab-badge.svg\" alt=\"Open In Colab\"/></a>"
      ]
    },
    {
      "cell_type": "markdown",
      "source": [
        "#Dictionary\n",
        "A dictionary is a collection which is unordered, changeable and indexed. In python, dictionaries are written with curly brackets and they have key and values.\n",
        "\n",
        "Key is a index by label.\n",
        "Keys are usually Character.\n",
        "\n",
        "![image.png](data:image/png;base64,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)\n",
        "\n",
        "![image.png](data:image/png;base64,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)\n",
        "\n",
        "# Important to Remember\n",
        "\n",
        "Duplicates Not Allowed\n",
        "\n",
        "The Keys have to be immutable and unique.\n",
        "\n",
        "The values can be immutable, mutable and duplicate. Dictionary can be assigned to a variable.\n",
        "\n",
        "For every key, there can only be one single value.\n",
        "\n",
        "Keys can only be strings, numbers and tuples.\n",
        "\n",
        "Values can be anyn  data type."
      ],
      "metadata": {
        "id": "h6Fq55uub9ij"
      }
    },
    {
      "cell_type": "code",
      "execution_count": null,
      "metadata": {
        "colab": {
          "base_uri": "https://localhost:8080/"
        },
        "id": "13ckiwmab5kp",
        "outputId": "4297c937-a21d-44f1-858d-76eb0c647e06"
      },
      "outputs": [
        {
          "output_type": "stream",
          "name": "stdout",
          "text": [
            "{'Pi': 3.14, 'Bool': '[True, False]', 'One Piece': \"['Luffy', 'Zoro','Sanji','Usopp','Nami','Franky','Nico Robin','Chopper','Brook','Yamato']\", 'Naruto': \"['Naruto', 'Kakshi', 'Sarutobi', 'Sakura','Ino','Ziraiya','Tobi','Sasuke']\"}\n"
          ]
        },
        {
          "output_type": "execute_result",
          "data": {
            "text/plain": [
              "dict"
            ]
          },
          "metadata": {},
          "execution_count": 2
        }
      ],
      "source": [
        "my_dict={\"Pi\": 3.14, \"Bool\":\"[True, False]\", \"One Piece\":\"['Luffy', 'Zoro','Sanji','Usopp','Nami','Franky','Nico Robin','Chopper','Brook','Yamato']\", \"Naruto\":\"['Naruto', 'Kakshi', 'Sarutobi', 'Sakura','Ino','Ziraiya','Tobi','Sasuke']\"}\n",
        "print(my_dict)\n",
        "\n",
        "type(my_dict)"
      ]
    },
    {
      "cell_type": "code",
      "source": [
        "OP_Char=my_dict.get(\"One Piece\")\n",
        "OP_Char"
      ],
      "metadata": {
        "colab": {
          "base_uri": "https://localhost:8080/",
          "height": 35
        },
        "id": "pF0XIezEia6h",
        "outputId": "eec597f1-7bef-40b0-b18d-f0ed26dd7d98"
      },
      "execution_count": null,
      "outputs": [
        {
          "output_type": "execute_result",
          "data": {
            "text/plain": [
              "\"['Luffy', 'Zoro','Sanji','Usopp','Nami','Franky','Nico Robin','Chopper','Brook','Yamato']\""
            ],
            "application/vnd.google.colaboratory.intrinsic+json": {
              "type": "string"
            }
          },
          "metadata": {},
          "execution_count": 14
        }
      ]
    },
    {
      "cell_type": "markdown",
      "source": [
        "#For Loop\n",
        "\n",
        "We can easily find all the values of the dictionary using for loop. To loop thorugh the keys,\n",
        "\n",
        "for keys in my_dict:\n",
        "\n",
        "        print(keys)\n",
        "\n",
        "By default, it will print the keys from the dictionary."
      ],
      "metadata": {
        "id": "Ndhhs4IAjP3S"
      }
    },
    {
      "cell_type": "code",
      "source": [
        "for keys in my_dict:\n",
        "  print(keys)"
      ],
      "metadata": {
        "colab": {
          "base_uri": "https://localhost:8080/"
        },
        "id": "M0YJgzI-jl0C",
        "outputId": "e5fdae77-b5f7-4c65-c29c-e58ea55bedf2"
      },
      "execution_count": null,
      "outputs": [
        {
          "output_type": "stream",
          "name": "stdout",
          "text": [
            "Pi\n",
            "Bool\n",
            "One Piece\n",
            "Naruto\n"
          ]
        }
      ]
    },
    {
      "cell_type": "markdown",
      "source": [
        "#For Loop\n",
        "\n",
        "To loop thorugh the respective values of the keys,\n",
        "\n",
        "for keys in my_dict.values():\n",
        "\n",
        "        print(keys)"
      ],
      "metadata": {
        "id": "GniRA0EQmeOj"
      }
    },
    {
      "cell_type": "code",
      "source": [
        "for keys in my_dict.values():\n",
        "  print(keys)\n",
        "  print(my_dict[\"One Piece\"])"
      ],
      "metadata": {
        "colab": {
          "base_uri": "https://localhost:8080/"
        },
        "id": "gI_TIAF8jxKd",
        "outputId": "8f4916b8-6c8a-4c0d-9551-119aed9e4546"
      },
      "execution_count": null,
      "outputs": [
        {
          "output_type": "stream",
          "name": "stdout",
          "text": [
            "3.14\n",
            "['Luffy', 'Zoro','Sanji','Usopp','Nami','Franky','Nico Robin','Chopper','Brook','Yamato']\n",
            "[True, False]\n",
            "['Luffy', 'Zoro','Sanji','Usopp','Nami','Franky','Nico Robin','Chopper','Brook','Yamato']\n",
            "['Luffy', 'Zoro','Sanji','Usopp','Nami','Franky','Nico Robin','Chopper','Brook','Yamato']\n",
            "['Luffy', 'Zoro','Sanji','Usopp','Nami','Franky','Nico Robin','Chopper','Brook','Yamato']\n",
            "['Naruto', 'Kakshi', 'Sarutobi', 'Sakura','Ino','Ziraiya','Tobi','Sasuke']\n",
            "['Luffy', 'Zoro','Sanji','Usopp','Nami','Franky','Nico Robin','Chopper','Brook','Yamato']\n"
          ]
        }
      ]
    },
    {
      "cell_type": "markdown",
      "source": [
        "#For Loop\n",
        "\n",
        "For printing both Key and Values, we can use dict.items()\n",
        "\n",
        "for items in my_dict.items():\n",
        "\n",
        "        print(items)"
      ],
      "metadata": {
        "id": "8yZuQnCEmt_j"
      }
    },
    {
      "cell_type": "code",
      "source": [
        "for items in my_dict.items():\n",
        "  print(items)"
      ],
      "metadata": {
        "colab": {
          "base_uri": "https://localhost:8080/"
        },
        "id": "B5Ir3zx5l8Bk",
        "outputId": "f97c1479-907a-446d-ad14-0b1e5cfd8776"
      },
      "execution_count": null,
      "outputs": [
        {
          "output_type": "stream",
          "name": "stdout",
          "text": [
            "('Pi', 3.14)\n",
            "('Bool', '[True, False]')\n",
            "('One Piece', \"['Luffy', 'Zoro','Sanji','Usopp','Nami','Franky','Nico Robin','Chopper','Brook','Yamato']\")\n",
            "('Naruto', \"['Naruto', 'Kakshi', 'Sarutobi', 'Sakura','Ino','Ziraiya','Tobi','Sasuke']\")\n"
          ]
        }
      ]
    },
    {
      "cell_type": "markdown",
      "source": [
        "#Adding Items in Dictionary:\n",
        "\n"
      ],
      "metadata": {
        "id": "nddUc1AinDzP"
      }
    },
    {
      "cell_type": "code",
      "source": [
        "my_dict[\"Miji & Family\"]=[\"Miji Senior\",\"Mrs Miji\",\"Miji Junior\"]\n",
        "my_dict"
      ],
      "metadata": {
        "colab": {
          "base_uri": "https://localhost:8080/"
        },
        "id": "gzhSfltznbZv",
        "outputId": "9fb08cf2-0f5a-4244-8cfa-9203939e1917"
      },
      "execution_count": null,
      "outputs": [
        {
          "output_type": "execute_result",
          "data": {
            "text/plain": [
              "{'Bool': '[True, False]',\n",
              " 'Miji & Family': ['Miji Senior', 'Mrs Miji', 'Miji Junior'],\n",
              " 'Naruto': \"['Naruto', 'Kakshi', 'Sarutobi', 'Sakura','Ino','Ziraiya','Tobi','Sasuke']\",\n",
              " 'One Piece': \"['Luffy', 'Zoro','Sanji','Usopp','Nami','Franky','Nico Robin','Chopper','Brook','Yamato']\",\n",
              " 'Pi': 3.14}"
            ]
          },
          "metadata": {},
          "execution_count": 6
        }
      ]
    },
    {
      "cell_type": "markdown",
      "source": [
        "#Value Changing for Keys\n",
        "\n",
        "We can change the value of a key by following method.\n"
      ],
      "metadata": {
        "id": "ZWKahuKHnuJt"
      }
    },
    {
      "cell_type": "code",
      "source": [
        "my_dict[\"Pi\"]=3.14159\n",
        "my_dict"
      ],
      "metadata": {
        "colab": {
          "base_uri": "https://localhost:8080/"
        },
        "id": "uNo9AmyGoOrP",
        "outputId": "091f602a-0475-421b-ad6e-6e9579ef4c89"
      },
      "execution_count": null,
      "outputs": [
        {
          "output_type": "execute_result",
          "data": {
            "text/plain": [
              "{'Bool': '[True, False]',\n",
              " 'Miji & Family': ['Miji Senior', 'Mrs Miji', 'Miji Junior'],\n",
              " 'Naruto': \"['Naruto', 'Kakshi', 'Sarutobi', 'Sakura','Ino','Ziraiya','Tobi','Sasuke']\",\n",
              " 'One Piece': \"['Luffy', 'Zoro','Sanji','Usopp','Nami','Franky','Nico Robin','Chopper','Brook','Yamato']\",\n",
              " 'Pi': 3.14159}"
            ]
          },
          "metadata": {},
          "execution_count": 7
        }
      ]
    },
    {
      "cell_type": "markdown",
      "source": [
        "#Nested Dictionary:"
      ],
      "metadata": {
        "id": "7-HLtmbFoq2w"
      }
    },
    {
      "cell_type": "code",
      "source": [
        "switch_room1={\"Nandankanan Switchroom\":\"0241360000\"}\n",
        "switch_room2={\"Muradpur Switchroom\":\"0241355000\"}\n",
        "switch_room3={\"Bayezid Switchroom\":\"0241380000\"}\n",
        "Switchroom_contact={\"Nandankanan\":switch_room1, \"Muradpur\":switch_room2, \"Bayezid\":switch_room3}"
      ],
      "metadata": {
        "colab": {
          "base_uri": "https://localhost:8080/"
        },
        "id": "xNnS1cppq31R",
        "outputId": "d4f660dd-7ae4-48ca-8ce2-b798bdea8111"
      },
      "execution_count": null,
      "outputs": [
        {
          "output_type": "stream",
          "name": "stdout",
          "text": [
            "{'Nandankanan Switchroom': '0241360000'}\n"
          ]
        }
      ]
    },
    {
      "cell_type": "code",
      "source": [
        ""
      ],
      "metadata": {
        "id": "SMjDUG_Ds59h"
      },
      "execution_count": null,
      "outputs": []
    },
    {
      "cell_type": "markdown",
      "source": [
        "#Accessing the item from nested dictionary:"
      ],
      "metadata": {
        "id": "RlSNNUurrHnk"
      }
    },
    {
      "cell_type": "code",
      "source": [
        "print(Switchroom_contact['Bayezid'])\n",
        "print(Switchroom_contact[\"Nandankanan\"])\n",
        "print(Switchroom_contact['Bayezid']['Bayezid Switchroom'])"
      ],
      "metadata": {
        "colab": {
          "base_uri": "https://localhost:8080/"
        },
        "id": "nW1np_-WrMNM",
        "outputId": "7d8a7905-0618-45fc-8e04-c5d21c846097"
      },
      "execution_count": null,
      "outputs": [
        {
          "output_type": "stream",
          "name": "stdout",
          "text": [
            "{'Bayezid Switchroom': '0241380000'}\n",
            "{'Nandankanan Switchroom': '0241360000'}\n",
            "0241380000\n"
          ]
        }
      ]
    }
  ]
}